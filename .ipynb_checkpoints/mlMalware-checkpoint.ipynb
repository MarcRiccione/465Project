{
 "cells": [
  {
   "cell_type": "code",
   "execution_count": 5,
   "metadata": {},
   "outputs": [
    {
     "name": "stdout",
     "output_type": "stream",
     "text": [
      "The shape of the legit dataset is: 41323 samples, 56 features\n",
      "The shape of the malware dataset is: 96724 samples, 56 features\n"
     ]
    }
   ],
   "source": [
    "import pandas as pd\n",
    "from sklearn.ensemble import ExtraTreesClassifier\n",
    "from sklearn.feature_selection import SelectFromModel\n",
    "from sklearn.model_selection import train_test_split\n",
    "from sklearn.model_selection import cross_validate\n",
    "\n",
    "allData = pd.read_csv(\"MalwareData.csv\", sep=\"|\")\n",
    "\n",
    "legitData = allData[0:41323].drop([\"legitimate\"], axis=1)\n",
    "malData = allData[41323::].drop([\"legitimate\"], axis=1)\n",
    "\n",
    "print(\"Legit data: samples: %s, features: %s\"%(legitData.shape[0], legitData.shape[1]))\n",
    "print(\"Malware data: samples: %s, features: %s\"%(malData.shape[0], malData.shape[1]))"
   ]
  },
  {
   "cell_type": "code",
   "execution_count": 8,
   "metadata": {},
   "outputs": [],
   "source": [
    "pd.set_option(\"display.max_columns\", None)"
   ]
  },
  {
   "cell_type": "code",
   "execution_count": 13,
   "metadata": {},
   "outputs": [
    {
     "name": "stdout",
     "output_type": "stream",
     "text": [
      "0 Machine\n",
      "1 SizeOfOptionalHeader\n",
      "2 Characteristics\n",
      "3 MajorLinkerVersion\n",
      "4 MinorLinkerVersion\n",
      "5 SizeOfCode\n",
      "6 SizeOfInitializedData\n",
      "7 SizeOfUninitializedData\n",
      "8 AddressOfEntryPoint\n",
      "9 BaseOfCode\n",
      "10 BaseOfData\n",
      "11 ImageBase\n",
      "12 SectionAlignment\n",
      "13 FileAlignment\n",
      "14 MajorOperatingSystemVersion\n",
      "15 MinorOperatingSystemVersion\n",
      "16 MajorImageVersion\n",
      "17 MinorImageVersion\n",
      "18 MajorSubsystemVersion\n",
      "19 MinorSubsystemVersion\n",
      "20 SizeOfImage\n",
      "21 SizeOfHeaders\n",
      "22 CheckSum\n",
      "23 Subsystem\n",
      "24 DllCharacteristics\n",
      "25 SizeOfStackReserve\n",
      "26 SizeOfStackCommit\n",
      "27 SizeOfHeapReserve\n",
      "28 SizeOfHeapCommit\n",
      "29 LoaderFlags\n",
      "30 NumberOfRvaAndSizes\n",
      "31 SectionsNb\n",
      "32 SectionsMeanRawsize\n",
      "33 SectionsMinRawsize\n",
      "34 SectionMaxRawsize\n",
      "35 SectionsMeanVirtualsize\n",
      "36 SectionsMinVirtualsize\n",
      "37 SectionMaxVirtualsize\n",
      "38 ImportsNbDLL\n",
      "39 ImportsNb\n",
      "40 ImportsNbOrdinal\n",
      "41 ExportNb\n",
      "42 ResourcesNb\n",
      "43 ResourcesMeanEntropy\n",
      "44 ResourcesMeanSize\n",
      "45 ResourcesMinSize\n",
      "46 ResourcesMaxSize\n",
      "47 LoadConfigurationSize\n",
      "[1 1 1 ... 0 0 0]\n",
      "(138047, 48) (138047, 8)\n"
     ]
    }
   ],
   "source": [
    "withLabels = allData.drop(['Name', 'md5', 'legitimate','SectionsMaxEntropy','ResourcesMaxEntropy', 'VersionInformationSize', 'ResourcesMinEntropy', 'SectionsMinEntropy','SectionsMeanEntropy'], axis=1)\n",
    "dataPre = allData.drop(['Name', 'md5', 'legitimate','SectionsMaxEntropy','ResourcesMaxEntropy', 'VersionInformationSize', 'ResourcesMinEntropy', 'SectionsMinEntropy','SectionsMeanEntropy'], axis=1).values\n",
    "counter = 0\n",
    "for (columnName, columnData) in withLabels.iteritems():\n",
    "    print(str(counter) + \" \" + columnName)\n",
    "    counter += 1\n",
    "labels = allData['legitimate'].values\n",
    "extratrees = ExtraTreesClassifier().fit(dataPre,labels)\n",
    "select = SelectFromModel(extratrees,prefit=True)\n",
    "dataFinal = select.transform(dataPre)\n",
    "print(labels)\n",
    "print(dataPre.shape, dataFinal.shape)"
   ]
  },
  {
   "cell_type": "code",
   "execution_count": 14,
   "metadata": {},
   "outputs": [
    {
     "name": "stdout",
     "output_type": "stream",
     "text": [
      "1 DllCharacteristics 0.17225688659021615\n",
      "2 Machine 0.15500995759719127\n",
      "3 Characteristics 0.14366284897514567\n",
      "4 Subsystem 0.09331904617317219\n",
      "5 ImageBase 0.08969405579947973\n",
      "6 MajorSubsystemVersion 0.07431255096063455\n",
      "7 SizeOfOptionalHeader 0.043422676856148125\n",
      "8 MajorOperatingSystemVersion 0.021072902220543067\n"
     ]
    }
   ],
   "source": [
    "import numpy as np\n",
    "features = dataFinal.shape[1]\n",
    "importances = extratrees.feature_importances_\n",
    "indices = np.argsort(importances)[::-1]\n",
    "for f in range(features):\n",
    "    print(\"%d\"%(f+1),allData.columns[2+indices[f]],importances[indices[f]])"
   ]
  },
  {
   "cell_type": "code",
   "execution_count": 12,
   "metadata": {},
   "outputs": [
    {
     "name": "stdout",
     "output_type": "stream",
     "text": [
      "(110437,)\n",
      "[3.320000e+02 2.240000e+02 2.580000e+02 4.194304e+06 5.000000e+00\n",
      " 5.000000e+00 2.000000e+00 3.308800e+04]\n"
     ]
    }
   ],
   "source": [
    "from sklearn.model_selection import cross_val_score\n",
    "from sklearn.model_selection import train_test_split\n",
    "from sklearn.ensemble import RandomForestClassifier\n",
    "xtrain,xtest,ytrain,ytest=train_test_split(data_in_new,labels,test_size=0.2,random_state=123)\n",
    "rf=RandomForestClassifier(n_estimators=50)\n",
    "#rf_cv_score=cross_val_score(estimator=rf,X=xtrain,y=ytr)\n",
    "#print(rf_cv_score)\n",
    "print(ytrain.shape)\n",
    "print(xtrain[1])\n",
    "#print(xtest[-1])\n",
    "#print(mal.take([-1]))"
   ]
  },
  {
   "cell_type": "code",
   "execution_count": 54,
   "metadata": {},
   "outputs": [
    {
     "name": "stdout",
     "output_type": "stream",
     "text": [
      "Score:  98.93879029337197\n"
     ]
    }
   ],
   "source": [
    "rf.fit(xtrain, ytrain)\n",
    "acc = rf.score(xtest,ytest)*100\n",
    "print(\"Accuracy: \", acc)"
   ]
  },
  {
   "cell_type": "code",
   "execution_count": 9,
   "metadata": {},
   "outputs": [
    {
     "ename": "NameError",
     "evalue": "name 'rf' is not defined",
     "output_type": "error",
     "traceback": [
      "\u001b[0;31m---------------------------------------------------------------------------\u001b[0m",
      "\u001b[0;31mNameError\u001b[0m                                 Traceback (most recent call last)",
      "\u001b[0;32m<ipython-input-9-377f017e8b01>\u001b[0m in \u001b[0;36m<module>\u001b[0;34m\u001b[0m\n\u001b[1;32m      1\u001b[0m \u001b[0;32mimport\u001b[0m \u001b[0mpickle\u001b[0m\u001b[0;34m\u001b[0m\u001b[0;34m\u001b[0m\u001b[0m\n\u001b[1;32m      2\u001b[0m \u001b[0mfilename\u001b[0m\u001b[0;34m=\u001b[0m\u001b[0;34m'final_model.sav'\u001b[0m\u001b[0;34m\u001b[0m\u001b[0;34m\u001b[0m\u001b[0m\n\u001b[0;32m----> 3\u001b[0;31m \u001b[0mpickle\u001b[0m\u001b[0;34m.\u001b[0m\u001b[0mdump\u001b[0m\u001b[0;34m(\u001b[0m\u001b[0mrf\u001b[0m\u001b[0;34m,\u001b[0m \u001b[0mopen\u001b[0m\u001b[0;34m(\u001b[0m\u001b[0mfilename\u001b[0m\u001b[0;34m,\u001b[0m \u001b[0;34m'wb'\u001b[0m\u001b[0;34m)\u001b[0m\u001b[0;34m)\u001b[0m\u001b[0;34m\u001b[0m\u001b[0;34m\u001b[0m\u001b[0m\n\u001b[0m",
      "\u001b[0;31mNameError\u001b[0m: name 'rf' is not defined"
     ]
    }
   ],
   "source": [
    "import pickle\n",
    "filename='final_model.sav'\n",
    "pickle.dump(rf, open(filename, 'wb'))"
   ]
  },
  {
   "cell_type": "code",
   "execution_count": 19,
   "metadata": {},
   "outputs": [
    {
     "name": "stdout",
     "output_type": "stream",
     "text": [
      "[3.44040000e+04 2.40000000e+02 8.22600000e+03 8.79377619e+12\n",
      " 6.00000000e+00 6.00000000e+00 3.00000000e+00 3.20000000e+02]\n",
      "0.9893879029337197\n"
     ]
    }
   ],
   "source": [
    "loaded_model = pickle.load(open(filename, 'rb'))\n",
    "print(xtrain[-1])\n",
    "res = loaded_model.score(xtest, ytest)\n",
    "print(res)"
   ]
  }
 ],
 "metadata": {
  "kernelspec": {
   "display_name": "Python 3",
   "language": "python",
   "name": "python3"
  },
  "language_info": {
   "codemirror_mode": {
    "name": "ipython",
    "version": 3
   },
   "file_extension": ".py",
   "mimetype": "text/x-python",
   "name": "python",
   "nbconvert_exporter": "python",
   "pygments_lexer": "ipython3",
   "version": "3.7.7"
  }
 },
 "nbformat": 4,
 "nbformat_minor": 4
}
