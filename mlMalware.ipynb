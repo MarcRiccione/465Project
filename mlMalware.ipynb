{
 "cells": [
  {
   "cell_type": "code",
   "execution_count": 2,
   "metadata": {},
   "outputs": [
    {
     "name": "stdout",
     "output_type": "stream",
     "text": [
      "The shape of the legit dataset is: 41323 samples, 56 features\n",
      "The shape of the malware dataset is: 96724 samples, 56 features\n"
     ]
    }
   ],
   "source": [
    "import pandas as pd\n",
    "\n",
    "malData = pd.read_csv(\"MalwareData.csv\", sep=\"|\")\n",
    "\n",
    "legit = malData[0:41323].drop([\"legitimate\"], axis=1)\n",
    "mal = malData[41323::].drop([\"legitimate\"], axis=1)\n",
    "\n",
    "print(\"The shape of the legit dataset is: %s samples, %s features\"%(legit.shape[0], legit.shape[1]))\n",
    "print(\"The shape of the malware dataset is: %s samples, %s features\"%(mal.shape[0], mal.shape[1]))"
   ]
  },
  {
   "cell_type": "code",
   "execution_count": 3,
   "metadata": {},
   "outputs": [
    {
     "name": "stdout",
     "output_type": "stream",
     "text": [
      "Index(['Name', 'md5', 'Machine', 'SizeOfOptionalHeader', 'Characteristics',\n",
      "       'MajorLinkerVersion', 'MinorLinkerVersion', 'SizeOfCode',\n",
      "       'SizeOfInitializedData', 'SizeOfUninitializedData',\n",
      "       'AddressOfEntryPoint', 'BaseOfCode', 'BaseOfData', 'ImageBase',\n",
      "       'SectionAlignment', 'FileAlignment', 'MajorOperatingSystemVersion',\n",
      "       'MinorOperatingSystemVersion', 'MajorImageVersion', 'MinorImageVersion',\n",
      "       'MajorSubsystemVersion', 'MinorSubsystemVersion', 'SizeOfImage',\n",
      "       'SizeOfHeaders', 'CheckSum', 'Subsystem', 'DllCharacteristics',\n",
      "       'SizeOfStackReserve', 'SizeOfStackCommit', 'SizeOfHeapReserve',\n",
      "       'SizeOfHeapCommit', 'LoaderFlags', 'NumberOfRvaAndSizes', 'SectionsNb',\n",
      "       'SectionsMeanEntropy', 'SectionsMinEntropy', 'SectionsMaxEntropy',\n",
      "       'SectionsMeanRawsize', 'SectionsMinRawsize', 'SectionMaxRawsize',\n",
      "       'SectionsMeanVirtualsize', 'SectionsMinVirtualsize',\n",
      "       'SectionMaxVirtualsize', 'ImportsNbDLL', 'ImportsNb',\n",
      "       'ImportsNbOrdinal', 'ExportNb', 'ResourcesNb', 'ResourcesMeanEntropy',\n",
      "       'ResourcesMinEntropy', 'ResourcesMaxEntropy', 'ResourcesMeanSize',\n",
      "       'ResourcesMinSize', 'ResourcesMaxSize', 'LoadConfigurationSize',\n",
      "       'VersionInformationSize', 'legitimate'],\n",
      "      dtype='object')\n"
     ]
    }
   ],
   "source": [
    "print(malData.columns)"
   ]
  },
  {
   "cell_type": "code",
   "execution_count": 4,
   "metadata": {},
   "outputs": [
    {
     "name": "stdout",
     "output_type": "stream",
     "text": [
      "           Name                               md5  Machine  \\\n",
      "0   memtest.exe  631ea355665f28d4707448e442fbf5b8      332   \n",
      "1       ose.exe  9d10f99a6712e28f8acd5641e3a7ea6b      332   \n",
      "2     setup.exe  4d92f518527353c0db88a70fddcfd390      332   \n",
      "3      DW20.EXE  a41e524f8d45f0074fd07805ff0c9b12      332   \n",
      "4  dwtrig20.exe  c87e561258f2f8650cef999bf643a731      332   \n",
      "\n",
      "   SizeOfOptionalHeader  Characteristics  MajorLinkerVersion  \\\n",
      "0                   224              258                   9   \n",
      "1                   224             3330                   9   \n",
      "2                   224             3330                   9   \n",
      "3                   224              258                   9   \n",
      "4                   224              258                   9   \n",
      "\n",
      "   MinorLinkerVersion  SizeOfCode  SizeOfInitializedData  \\\n",
      "0                   0      361984                 115712   \n",
      "1                   0      130560                  19968   \n",
      "2                   0      517120                 621568   \n",
      "3                   0      585728                 369152   \n",
      "4                   0      294912                 247296   \n",
      "\n",
      "   SizeOfUninitializedData  ...  ResourcesNb  ResourcesMeanEntropy  \\\n",
      "0                        0  ...            4              3.262823   \n",
      "1                        0  ...            2              4.250461   \n",
      "2                        0  ...           11              4.426324   \n",
      "3                        0  ...           10              4.364291   \n",
      "4                        0  ...            2              4.306100   \n",
      "\n",
      "   ResourcesMinEntropy  ResourcesMaxEntropy  ResourcesMeanSize  \\\n",
      "0             2.568844             3.537939        8797.000000   \n",
      "1             3.420744             5.080177         837.000000   \n",
      "2             2.846449             5.271813       31102.272727   \n",
      "3             2.669314             6.400720        1457.000000   \n",
      "4             3.421598             5.190603        1074.500000   \n",
      "\n",
      "   ResourcesMinSize  ResourcesMaxSize  LoadConfigurationSize  \\\n",
      "0               216             18032                      0   \n",
      "1               518              1156                     72   \n",
      "2               104            270376                     72   \n",
      "3                90              4264                     72   \n",
      "4               849              1300                     72   \n",
      "\n",
      "   VersionInformationSize  legitimate  \n",
      "0                      16           1  \n",
      "1                      18           1  \n",
      "2                      18           1  \n",
      "3                      18           1  \n",
      "4                      18           1  \n",
      "\n",
      "[5 rows x 57 columns]\n"
     ]
    }
   ],
   "source": [
    "print(malData.head(5))"
   ]
  },
  {
   "cell_type": "code",
   "execution_count": 5,
   "metadata": {},
   "outputs": [],
   "source": [
    "pd.set_option(\"display.max_columns\", None)"
   ]
  },
  {
   "cell_type": "code",
   "execution_count": 6,
   "metadata": {},
   "outputs": [
    {
     "name": "stdout",
     "output_type": "stream",
     "text": [
      "           Name                               md5  Machine  \\\n",
      "0   memtest.exe  631ea355665f28d4707448e442fbf5b8      332   \n",
      "1       ose.exe  9d10f99a6712e28f8acd5641e3a7ea6b      332   \n",
      "2     setup.exe  4d92f518527353c0db88a70fddcfd390      332   \n",
      "3      DW20.EXE  a41e524f8d45f0074fd07805ff0c9b12      332   \n",
      "4  dwtrig20.exe  c87e561258f2f8650cef999bf643a731      332   \n",
      "\n",
      "   SizeOfOptionalHeader  Characteristics  MajorLinkerVersion  \\\n",
      "0                   224              258                   9   \n",
      "1                   224             3330                   9   \n",
      "2                   224             3330                   9   \n",
      "3                   224              258                   9   \n",
      "4                   224              258                   9   \n",
      "\n",
      "   MinorLinkerVersion  SizeOfCode  SizeOfInitializedData  \\\n",
      "0                   0      361984                 115712   \n",
      "1                   0      130560                  19968   \n",
      "2                   0      517120                 621568   \n",
      "3                   0      585728                 369152   \n",
      "4                   0      294912                 247296   \n",
      "\n",
      "   SizeOfUninitializedData  AddressOfEntryPoint  BaseOfCode  BaseOfData  \\\n",
      "0                        0                 6135        4096      372736   \n",
      "1                        0                81778        4096      143360   \n",
      "2                        0               350896        4096      811008   \n",
      "3                        0               451258        4096      798720   \n",
      "4                        0               217381        4096      536576   \n",
      "\n",
      "     ImageBase  SectionAlignment  FileAlignment  MajorOperatingSystemVersion  \\\n",
      "0    4194304.0              4096            512                            0   \n",
      "1  771751936.0              4096            512                            5   \n",
      "2  771751936.0              4096            512                            5   \n",
      "3  771751936.0              4096            512                            5   \n",
      "4  771751936.0              4096            512                            5   \n",
      "\n",
      "   MinorOperatingSystemVersion  MajorImageVersion  MinorImageVersion  \\\n",
      "0                            0                  0                  0   \n",
      "1                            1                  0                  0   \n",
      "2                            1                  0                  0   \n",
      "3                            1                  0                  0   \n",
      "4                            1                  0                  0   \n",
      "\n",
      "   MajorSubsystemVersion  MinorSubsystemVersion  SizeOfImage  SizeOfHeaders  \\\n",
      "0                      1                      0      1036288           1024   \n",
      "1                      5                      1       159744           1024   \n",
      "2                      5                      1      1150976           1024   \n",
      "3                      5                      1       962560           1024   \n",
      "4                      5                      1       552960           1024   \n",
      "\n",
      "   CheckSum  Subsystem  DllCharacteristics  SizeOfStackReserve  \\\n",
      "0    485887         16                1024             1048576   \n",
      "1    188943          2               33088             1048576   \n",
      "2   1159817          2               32832             1048576   \n",
      "3    867570          2               33088             1048576   \n",
      "4    579287          2               33088             1048576   \n",
      "\n",
      "   SizeOfStackCommit  SizeOfHeapReserve  SizeOfHeapCommit  LoaderFlags  \\\n",
      "0               4096            1048576              4096            0   \n",
      "1               4096            1048576              4096            0   \n",
      "2               4096            1048576              4096            0   \n",
      "3               4096            1048576              4096            0   \n",
      "4               4096            1048576              4096            0   \n",
      "\n",
      "   NumberOfRvaAndSizes  SectionsNb  SectionsMeanEntropy  SectionsMinEntropy  \\\n",
      "0                   16           8             5.766807            3.607430   \n",
      "1                   16           4             4.839688            2.373525   \n",
      "2                   16           4             6.409558            4.885191   \n",
      "3                   16           4             6.641731            5.642565   \n",
      "4                   16           4             6.252684            4.182282   \n",
      "\n",
      "   SectionsMaxEntropy  SectionsMeanRawsize  SectionsMinRawsize  \\\n",
      "0            7.221051              59712.0                1024   \n",
      "1            6.566909              35584.0                2048   \n",
      "2            7.600957             273408.0               21504   \n",
      "3            7.594929             207872.0               15360   \n",
      "4            7.608305             128128.0                2560   \n",
      "\n",
      "   SectionMaxRawsize  SectionsMeanVirtualsize  SectionsMinVirtualsize  \\\n",
      "0             325120               126875.875                     896   \n",
      "1             130560                37322.000                    1840   \n",
      "2             517120               284498.000                   21456   \n",
      "3             585728               238502.000                   15208   \n",
      "4             294912               135350.000                    2320   \n",
      "\n",
      "   SectionMaxVirtualsize  ImportsNbDLL  ImportsNb  ImportsNbOrdinal  ExportNb  \\\n",
      "0                 551848             0          0                 0         0   \n",
      "1                 130296             7        181                 0         0   \n",
      "2                 516760            14        235                21         1   \n",
      "3                 585488            15        360                 6         1   \n",
      "4                 294816            10        194                 4         1   \n",
      "\n",
      "   ResourcesNb  ResourcesMeanEntropy  ResourcesMinEntropy  \\\n",
      "0            4              3.262823             2.568844   \n",
      "1            2              4.250461             3.420744   \n",
      "2           11              4.426324             2.846449   \n",
      "3           10              4.364291             2.669314   \n",
      "4            2              4.306100             3.421598   \n",
      "\n",
      "   ResourcesMaxEntropy  ResourcesMeanSize  ResourcesMinSize  ResourcesMaxSize  \\\n",
      "0             3.537939        8797.000000               216             18032   \n",
      "1             5.080177         837.000000               518              1156   \n",
      "2             5.271813       31102.272727               104            270376   \n",
      "3             6.400720        1457.000000                90              4264   \n",
      "4             5.190603        1074.500000               849              1300   \n",
      "\n",
      "   LoadConfigurationSize  VersionInformationSize  legitimate  \n",
      "0                      0                      16           1  \n",
      "1                     72                      18           1  \n",
      "2                     72                      18           1  \n",
      "3                     72                      18           1  \n",
      "4                     72                      18           1  \n"
     ]
    }
   ],
   "source": [
    "print(malData.head(5))"
   ]
  },
  {
   "cell_type": "code",
   "execution_count": 7,
   "metadata": {},
   "outputs": [
    {
     "name": "stdout",
     "output_type": "stream",
     "text": [
      "      Name                               md5  Machine  SizeOfOptionalHeader  \\\n",
      "1  ose.exe  9d10f99a6712e28f8acd5641e3a7ea6b      332                   224   \n",
      "\n",
      "   Characteristics  MajorLinkerVersion  MinorLinkerVersion  SizeOfCode  \\\n",
      "1             3330                   9                   0      130560   \n",
      "\n",
      "   SizeOfInitializedData  SizeOfUninitializedData  AddressOfEntryPoint  \\\n",
      "1                  19968                        0                81778   \n",
      "\n",
      "   BaseOfCode  BaseOfData    ImageBase  SectionAlignment  FileAlignment  \\\n",
      "1        4096      143360  771751936.0              4096            512   \n",
      "\n",
      "   MajorOperatingSystemVersion  MinorOperatingSystemVersion  \\\n",
      "1                            5                            1   \n",
      "\n",
      "   MajorImageVersion  MinorImageVersion  MajorSubsystemVersion  \\\n",
      "1                  0                  0                      5   \n",
      "\n",
      "   MinorSubsystemVersion  SizeOfImage  SizeOfHeaders  CheckSum  Subsystem  \\\n",
      "1                      1       159744           1024    188943          2   \n",
      "\n",
      "   DllCharacteristics  SizeOfStackReserve  SizeOfStackCommit  \\\n",
      "1               33088             1048576               4096   \n",
      "\n",
      "   SizeOfHeapReserve  SizeOfHeapCommit  LoaderFlags  NumberOfRvaAndSizes  \\\n",
      "1            1048576              4096            0                   16   \n",
      "\n",
      "   SectionsNb  SectionsMeanEntropy  SectionsMinEntropy  SectionsMaxEntropy  \\\n",
      "1           4             4.839688            2.373525            6.566909   \n",
      "\n",
      "   SectionsMeanRawsize  SectionsMinRawsize  SectionMaxRawsize  \\\n",
      "1              35584.0                2048             130560   \n",
      "\n",
      "   SectionsMeanVirtualsize  SectionsMinVirtualsize  SectionMaxVirtualsize  \\\n",
      "1                  37322.0                    1840                 130296   \n",
      "\n",
      "   ImportsNbDLL  ImportsNb  ImportsNbOrdinal  ExportNb  ResourcesNb  \\\n",
      "1             7        181                 0         0            2   \n",
      "\n",
      "   ResourcesMeanEntropy  ResourcesMinEntropy  ResourcesMaxEntropy  \\\n",
      "1              4.250461             3.420744             5.080177   \n",
      "\n",
      "   ResourcesMeanSize  ResourcesMinSize  ResourcesMaxSize  \\\n",
      "1              837.0               518              1156   \n",
      "\n",
      "   LoadConfigurationSize  VersionInformationSize  \n",
      "1                     72                      18  \n"
     ]
    }
   ],
   "source": [
    "print(legit.take([1]))"
   ]
  },
  {
   "cell_type": "code",
   "execution_count": 8,
   "metadata": {},
   "outputs": [
    {
     "name": "stdout",
     "output_type": "stream",
     "text": [
      "                                               Name  \\\n",
      "138046  VirusShare_d7648eae45f09b3adb75127f43be6d11   \n",
      "\n",
      "                                     md5  Machine  SizeOfOptionalHeader  \\\n",
      "138046  d7648eae45f09b3adb75127f43be6d11      332                   224   \n",
      "\n",
      "        Characteristics  MajorLinkerVersion  MinorLinkerVersion  SizeOfCode  \\\n",
      "138046              258                  11                   0      111616   \n",
      "\n",
      "        SizeOfInitializedData  SizeOfUninitializedData  AddressOfEntryPoint  \\\n",
      "138046                 468480                        0                22731   \n",
      "\n",
      "        BaseOfCode  BaseOfData  ImageBase  SectionAlignment  FileAlignment  \\\n",
      "138046        4096      118784  4194304.0              4096            512   \n",
      "\n",
      "        MajorOperatingSystemVersion  MinorOperatingSystemVersion  \\\n",
      "138046                            5                            1   \n",
      "\n",
      "        MajorImageVersion  MinorImageVersion  MajorSubsystemVersion  \\\n",
      "138046                  0                  0                      5   \n",
      "\n",
      "        MinorSubsystemVersion  SizeOfImage  SizeOfHeaders    CheckSum  \\\n",
      "138046                      1       593920           1024  2018448048   \n",
      "\n",
      "        Subsystem  DllCharacteristics  SizeOfStackReserve  SizeOfStackCommit  \\\n",
      "138046          2               33088             1048576               4096   \n",
      "\n",
      "        SizeOfHeapReserve  SizeOfHeapCommit  LoaderFlags  NumberOfRvaAndSizes  \\\n",
      "138046            1048576              4096            0                   16   \n",
      "\n",
      "        SectionsNb  SectionsMeanEntropy  SectionsMinEntropy  \\\n",
      "138046           5             5.246001            3.907011   \n",
      "\n",
      "        SectionsMaxEntropy  SectionsMeanRawsize  SectionsMinRawsize  \\\n",
      "138046            6.562745             114278.4                6656   \n",
      "\n",
      "        SectionMaxRawsize  SectionsMeanVirtualsize  SectionsMinVirtualsize  \\\n",
      "138046             387072                 115790.8                   15252   \n",
      "\n",
      "        SectionMaxVirtualsize  ImportsNbDLL  ImportsNb  ImportsNbOrdinal  \\\n",
      "138046                 386824             4         88                 1   \n",
      "\n",
      "        ExportNb  ResourcesNb  ResourcesMeanEntropy  ResourcesMinEntropy  \\\n",
      "138046         0            4              4.407252             1.980482   \n",
      "\n",
      "        ResourcesMaxEntropy  ResourcesMeanSize  ResourcesMinSize  \\\n",
      "138046             6.115374            96625.0                20   \n",
      "\n",
      "        ResourcesMaxSize  LoadConfigurationSize  VersionInformationSize  \n",
      "138046            318464                     72                       0  \n"
     ]
    }
   ],
   "source": [
    "print(mal.take([-1]))"
   ]
  },
  {
   "cell_type": "code",
   "execution_count": 9,
   "metadata": {},
   "outputs": [],
   "source": [
    "from sklearn.ensemble import ExtraTreesClassifier\n",
    "from sklearn.feature_selection import SelectFromModel\n",
    "from sklearn.model_selection import train_test_split\n",
    "from sklearn.model_selection import cross_validate"
   ]
  },
  {
   "cell_type": "code",
   "execution_count": 10,
   "metadata": {},
   "outputs": [
    {
     "name": "stdout",
     "output_type": "stream",
     "text": [
      "0 Machine\n",
      "1 SizeOfOptionalHeader\n",
      "2 Characteristics\n",
      "3 MajorLinkerVersion\n",
      "4 MinorLinkerVersion\n",
      "5 SizeOfCode\n",
      "6 SizeOfInitializedData\n",
      "7 SizeOfUninitializedData\n",
      "8 AddressOfEntryPoint\n",
      "9 BaseOfCode\n",
      "10 BaseOfData\n",
      "11 ImageBase\n",
      "12 SectionAlignment\n",
      "13 FileAlignment\n",
      "14 MajorOperatingSystemVersion\n",
      "15 MinorOperatingSystemVersion\n",
      "16 MajorImageVersion\n",
      "17 MinorImageVersion\n",
      "18 MajorSubsystemVersion\n",
      "19 MinorSubsystemVersion\n",
      "20 SizeOfImage\n",
      "21 SizeOfHeaders\n",
      "22 CheckSum\n",
      "23 Subsystem\n",
      "24 DllCharacteristics\n",
      "25 SizeOfStackReserve\n",
      "26 SizeOfStackCommit\n",
      "27 SizeOfHeapReserve\n",
      "28 SizeOfHeapCommit\n",
      "29 LoaderFlags\n",
      "30 NumberOfRvaAndSizes\n",
      "31 SectionsNb\n",
      "32 SectionsMeanRawsize\n",
      "33 SectionsMinRawsize\n",
      "34 SectionMaxRawsize\n",
      "35 SectionsMeanVirtualsize\n",
      "36 SectionsMinVirtualsize\n",
      "37 SectionMaxVirtualsize\n",
      "38 ImportsNbDLL\n",
      "39 ImportsNb\n",
      "40 ImportsNbOrdinal\n",
      "41 ExportNb\n",
      "42 ResourcesNb\n",
      "43 ResourcesMeanEntropy\n",
      "44 ResourcesMeanSize\n",
      "45 ResourcesMinSize\n",
      "46 ResourcesMaxSize\n",
      "47 LoadConfigurationSize\n",
      "[1 1 1 ... 0 0 0]\n",
      "(138047, 48) (138047, 8)\n"
     ]
    }
   ],
   "source": [
    "withLabels = malData.drop(['Name', 'md5', 'legitimate','SectionsMaxEntropy','ResourcesMaxEntropy', 'VersionInformationSize', 'ResourcesMinEntropy', 'SectionsMinEntropy','SectionsMeanEntropy'], axis=1)\n",
    "data_in = malData.drop(['Name', 'md5', 'legitimate','SectionsMaxEntropy','ResourcesMaxEntropy', 'VersionInformationSize', 'ResourcesMinEntropy', 'SectionsMinEntropy','SectionsMeanEntropy'], axis=1).values\n",
    "counter = 0\n",
    "for (columnName, columnData) in withLabels.iteritems():\n",
    "    print(str(counter) + \" \" + columnName)\n",
    "    counter += 1\n",
    "labels = malData['legitimate'].values\n",
    "extratrees = ExtraTreesClassifier().fit(data_in,labels)\n",
    "select = SelectFromModel(extratrees,prefit=True)\n",
    "data_in_new = select.transform(data_in)\n",
    "print(labels)\n",
    "print(data_in.shape, data_in_new.shape)"
   ]
  },
  {
   "cell_type": "code",
   "execution_count": 11,
   "metadata": {},
   "outputs": [
    {
     "name": "stdout",
     "output_type": "stream",
     "text": [
      "24\n",
      "1 DllCharacteristics 0.212476431535553\n",
      "2\n",
      "2 Characteristics 0.1580804795860005\n",
      "0\n",
      "3 Machine 0.11504059668617164\n",
      "23\n",
      "4 Subsystem 0.09633436724140015\n",
      "11\n",
      "5 ImageBase 0.08746339595029728\n",
      "18\n",
      "6 MajorSubsystemVersion 0.060544227712742364\n",
      "1\n",
      "7 SizeOfOptionalHeader 0.04083042703705708\n",
      "14\n",
      "8 MajorOperatingSystemVersion 0.0327143582894105\n"
     ]
    }
   ],
   "source": [
    "import numpy as np\n",
    "features = data_in_new.shape[1]\n",
    "importances = extratrees.feature_importances_\n",
    "indices = np.argsort(importances)[::-1]\n",
    "for f in range(features):\n",
    "    print(indices[f])\n",
    "    print(\"%d\"%(f+1),malData.columns[2+indices[f]],importances[indices[f]])"
   ]
  },
  {
   "cell_type": "code",
   "execution_count": 12,
   "metadata": {},
   "outputs": [
    {
     "name": "stdout",
     "output_type": "stream",
     "text": [
      "(110437,)\n",
      "[3.320000e+02 2.240000e+02 2.580000e+02 4.194304e+06 5.000000e+00\n",
      " 5.000000e+00 2.000000e+00 3.308800e+04]\n"
     ]
    }
   ],
   "source": [
    "from sklearn.model_selection import cross_val_score\n",
    "from sklearn.model_selection import train_test_split\n",
    "from sklearn.ensemble import RandomForestClassifier\n",
    "xtrain,xtest,ytrain,ytest=train_test_split(data_in_new,labels,test_size=0.2,random_state=123)\n",
    "rf=RandomForestClassifier(n_estimators=50)\n",
    "#rf_cv_score=cross_val_score(estimator=rf,X=xtrain,y=ytr)\n",
    "#print(rf_cv_score)\n",
    "print(ytrain.shape)\n",
    "print(xtrain[1])\n",
    "#print(xtest[-1])\n",
    "#print(mal.take([-1]))"
   ]
  },
  {
   "cell_type": "code",
   "execution_count": 54,
   "metadata": {},
   "outputs": [
    {
     "name": "stdout",
     "output_type": "stream",
     "text": [
      "Score:  98.93879029337197\n"
     ]
    }
   ],
   "source": [
    "from sklearn.metrics import confusion_matrix\n",
    "rf.fit(xtrain, ytrain)\n",
    "score = rf.score(xtest,ytest)*100\n",
    "result = rf.predict(xtest)\n",
    "conf_mat = confusion_matrix(ytest, result)\n",
    "print(\"Score: \", score)"
   ]
  },
  {
   "cell_type": "code",
   "execution_count": 55,
   "metadata": {},
   "outputs": [
    {
     "data": {
      "text/plain": [
       "(2, 2)"
      ]
     },
     "execution_count": 55,
     "metadata": {},
     "output_type": "execute_result"
    }
   ],
   "source": [
    "conf_mat.shape"
   ]
  },
  {
   "cell_type": "code",
   "execution_count": 56,
   "metadata": {},
   "outputs": [
    {
     "data": {
      "text/plain": [
       "numpy.ndarray"
      ]
     },
     "execution_count": 56,
     "metadata": {},
     "output_type": "execute_result"
    }
   ],
   "source": [
    "type(conf_mat)"
   ]
  },
  {
   "cell_type": "code",
   "execution_count": 57,
   "metadata": {},
   "outputs": [
    {
     "data": {
      "text/plain": [
       "array([[19130,   173],\n",
       "       [  120,  8187]])"
      ]
     },
     "execution_count": 57,
     "metadata": {},
     "output_type": "execute_result"
    }
   ],
   "source": [
    "conf_mat"
   ]
  },
  {
   "cell_type": "code",
   "execution_count": 58,
   "metadata": {},
   "outputs": [
    {
     "name": "stdout",
     "output_type": "stream",
     "text": [
      "False positives:  0.8962337460498367\n",
      "False negatives:  1.444564824846515\n"
     ]
    }
   ],
   "source": [
    "print(\"False positives: \",conf_mat[0][1]/sum(conf_mat[0])*100)\n",
    "print(\"False negatives: \",conf_mat[1][0]/sum(conf_mat[1])*100)"
   ]
  },
  {
   "cell_type": "code",
   "execution_count": 9,
   "metadata": {},
   "outputs": [
    {
     "ename": "NameError",
     "evalue": "name 'rf' is not defined",
     "output_type": "error",
     "traceback": [
      "\u001b[0;31m---------------------------------------------------------------------------\u001b[0m",
      "\u001b[0;31mNameError\u001b[0m                                 Traceback (most recent call last)",
      "\u001b[0;32m<ipython-input-9-377f017e8b01>\u001b[0m in \u001b[0;36m<module>\u001b[0;34m\u001b[0m\n\u001b[1;32m      1\u001b[0m \u001b[0;32mimport\u001b[0m \u001b[0mpickle\u001b[0m\u001b[0;34m\u001b[0m\u001b[0;34m\u001b[0m\u001b[0m\n\u001b[1;32m      2\u001b[0m \u001b[0mfilename\u001b[0m\u001b[0;34m=\u001b[0m\u001b[0;34m'final_model.sav'\u001b[0m\u001b[0;34m\u001b[0m\u001b[0;34m\u001b[0m\u001b[0m\n\u001b[0;32m----> 3\u001b[0;31m \u001b[0mpickle\u001b[0m\u001b[0;34m.\u001b[0m\u001b[0mdump\u001b[0m\u001b[0;34m(\u001b[0m\u001b[0mrf\u001b[0m\u001b[0;34m,\u001b[0m \u001b[0mopen\u001b[0m\u001b[0;34m(\u001b[0m\u001b[0mfilename\u001b[0m\u001b[0;34m,\u001b[0m \u001b[0;34m'wb'\u001b[0m\u001b[0;34m)\u001b[0m\u001b[0;34m)\u001b[0m\u001b[0;34m\u001b[0m\u001b[0;34m\u001b[0m\u001b[0m\n\u001b[0m",
      "\u001b[0;31mNameError\u001b[0m: name 'rf' is not defined"
     ]
    }
   ],
   "source": [
    "import pickle\n",
    "filename='final_model.sav'\n",
    "pickle.dump(rf, open(filename, 'wb'))"
   ]
  },
  {
   "cell_type": "code",
   "execution_count": 19,
   "metadata": {},
   "outputs": [
    {
     "name": "stdout",
     "output_type": "stream",
     "text": [
      "[3.44040000e+04 2.40000000e+02 8.22600000e+03 8.79377619e+12\n",
      " 6.00000000e+00 6.00000000e+00 3.00000000e+00 3.20000000e+02]\n",
      "0.9893879029337197\n"
     ]
    }
   ],
   "source": [
    "loaded_model = pickle.load(open(filename, 'rb'))\n",
    "print(xtrain[-1])\n",
    "result = loaded_model.score(xtest, ytest)\n",
    "print(result)"
   ]
  },
  {
   "cell_type": "code",
   "execution_count": 61,
   "metadata": {},
   "outputs": [
    {
     "data": {
      "text/plain": [
       "GradientBoostingClassifier(ccp_alpha=0.0, criterion='friedman_mse', init=None,\n",
       "                           learning_rate=0.1, loss='deviance', max_depth=3,\n",
       "                           max_features=None, max_leaf_nodes=None,\n",
       "                           min_impurity_decrease=0.0, min_impurity_split=None,\n",
       "                           min_samples_leaf=1, min_samples_split=2,\n",
       "                           min_weight_fraction_leaf=0.0, n_estimators=50,\n",
       "                           n_iter_no_change=None, presort='deprecated',\n",
       "                           random_state=None, subsample=1.0, tol=0.0001,\n",
       "                           validation_fraction=0.1, verbose=0,\n",
       "                           warm_start=False)"
      ]
     },
     "execution_count": 61,
     "metadata": {},
     "output_type": "execute_result"
    }
   ],
   "source": [
    "from sklearn.ensemble import GradientBoostingClassifier\n",
    "\n",
    "grad_boost = GradientBoostingClassifier(n_estimators=50)\n",
    "grad_boost.fit(xtrain,ytrain)"
   ]
  },
  {
   "cell_type": "code",
   "execution_count": 62,
   "metadata": {},
   "outputs": [
    {
     "name": "stdout",
     "output_type": "stream",
     "text": [
      "The score of the Gradient Boosting Classifier is: 98.45708076783774\n"
     ]
    }
   ],
   "source": [
    "print(\"The score of the Gradient Boosting Classifier is:\",grad_boost.score(xtest,ytest)*100)"
   ]
  },
  {
   "cell_type": "code",
   "execution_count": null,
   "metadata": {},
   "outputs": [],
   "source": []
  }
 ],
 "metadata": {
  "kernelspec": {
   "display_name": "Python 3",
   "language": "python",
   "name": "python3"
  },
  "language_info": {
   "codemirror_mode": {
    "name": "ipython",
    "version": 3
   },
   "file_extension": ".py",
   "mimetype": "text/x-python",
   "name": "python",
   "nbconvert_exporter": "python",
   "pygments_lexer": "ipython3",
   "version": "3.7.7"
  }
 },
 "nbformat": 4,
 "nbformat_minor": 4
}
